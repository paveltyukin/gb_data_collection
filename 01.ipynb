{
 "cells": [
  {
   "cell_type": "code",
   "execution_count": 1,
   "metadata": {},
   "outputs": [],
   "source": [
    "import requests"
   ]
  },
  {
   "cell_type": "code",
   "execution_count": 2,
   "metadata": {},
   "outputs": [],
   "source": [
    "main_link = 'http://google.com'\n",
    "response = requests.get(main_link)"
   ]
  },
  {
   "cell_type": "code",
   "execution_count": 5,
   "metadata": {},
   "outputs": [
    {
     "data": {
      "text/plain": [
       "'<!DOCTYPE html PUBLIC \"-//W3C//DTD HTML 4.01 Transitional//EN\">\\n<html>\\n<head><meta http-equiv=\"content-type\" content=\"text/html; charset=utf-8\"><meta name=\"viewport\" content=\"initial-scale=1\"><title>http://google.com/</title></head>\\n<body style=\"font-family: arial, sans-serif; background-color: #fff; color: #000; padding:20px; font-size:18px;\" onload=\"e=document.getElementById(\\'captcha\\');if(e){e.focus();}\">\\n<div style=\"max-width:400px;\">\\n<hr noshade size=\"1\" style=\"color:#ccc; background-color:#ccc;\"><br>\\n<form id=\"captcha-form\" action=\"index\" method=\"post\">\\n<script src=\"https://www.google.com/recaptcha/api.js\" async defer></script>\\n<script>var submitCallback = function(response) {document.getElementById(\\'captcha-form\\').submit();};</script>\\n<div id=\"recaptcha\" class=\"g-recaptcha\" data-sitekey=\"6LfwuyUTAAAAAOAmoS0fdqijC2PbbdH4kjq62Y1b\" data-callback=\"submitCallback\" data-s=\"P3lAxT-dbkeb-EYwIbY5ol3n0endyKQN0xGV-I1qb2ih7BS2GvUXDVVyPYbOncmQ_1jptjx1-Tx56YEi_wGRL-U33gmC-rBVevysw8Wv7uyafEdpyeeIdJKLVGWk0yPTwU2ioZvSBTvi1lzhBhDVP3QVGFBNg1tgBarvURPcAZOkaEThmHlg8nWfNLRLqsHORNr512kFFrtwAVnso8-QOaUFcuvVQSsT9CLPJIid7vZWZCC-Rkps5ss\"></div>\\n<input type=\\'hidden\\' name=\\'q\\' value=\\'EgQlk1JJGLq72vYFIhkA8aeDS_TXYCUV4OvUp-gjBXh9psGhOnw1MgFy\\'><input type=\"hidden\" name=\"continue\" value=\"http://google.com/\">\\n</form>\\n<hr noshade size=\"1\" style=\"color:#ccc; background-color:#ccc;\">\\n\\n<div style=\"font-size:13px;\">\\n<b>About this page</b><br><br>\\n\\nOur systems have detected unusual traffic from your computer network.  This page checks to see if it&#39;s really you sending the requests, and not a robot.  <a href=\"#\" onclick=\"document.getElementById(\\'infoDiv\\').style.display=\\'block\\';\">Why did this happen?</a><br><br>\\n\\n<div id=\"infoDiv\" style=\"display:none; background-color:#eee; padding:10px; margin:0 0 15px 0; line-height:1.4em;\">\\nThis page appears when Google automatically detects requests coming from your computer network which appear to be in violation of the <a href=\"//www.google.com/policies/terms/\">Terms of Service</a>. The block will expire shortly after those requests stop.  In the meantime, solving the above CAPTCHA will let you continue to use our services.<br><br>This traffic may have been sent by malicious software, a browser plug-in, or a script that sends automated requests.  If you share your network connection, ask your administrator for help &mdash; a different computer using the same IP address may be responsible.  <a href=\"//support.google.com/websearch/answer/86640\">Learn more</a><br><br>Sometimes you may be asked to solve the CAPTCHA if you are using advanced terms that robots are known to use, or sending requests very quickly.\\n</div>\\n\\nIP address: 37.147.82.73<br>Time: 2020-06-02T18:43:06Z<br>URL: http://google.com/<br>\\n</div>\\n</div>\\n</body>\\n</html>\\n'"
      ]
     },
     "execution_count": 5,
     "metadata": {},
     "output_type": "execute_result"
    }
   ],
   "source": [
    "response.text"
   ]
  },
  {
   "cell_type": "code",
   "execution_count": 6,
   "metadata": {},
   "outputs": [
    {
     "data": {
      "text/plain": [
       "b'<!DOCTYPE html PUBLIC \"-//W3C//DTD HTML 4.01 Transitional//EN\">\\n<html>\\n<head><meta http-equiv=\"content-type\" content=\"text/html; charset=utf-8\"><meta name=\"viewport\" content=\"initial-scale=1\"><title>http://google.com/</title></head>\\n<body style=\"font-family: arial, sans-serif; background-color: #fff; color: #000; padding:20px; font-size:18px;\" onload=\"e=document.getElementById(\\'captcha\\');if(e){e.focus();}\">\\n<div style=\"max-width:400px;\">\\n<hr noshade size=\"1\" style=\"color:#ccc; background-color:#ccc;\"><br>\\n<form id=\"captcha-form\" action=\"index\" method=\"post\">\\n<script src=\"https://www.google.com/recaptcha/api.js\" async defer></script>\\n<script>var submitCallback = function(response) {document.getElementById(\\'captcha-form\\').submit();};</script>\\n<div id=\"recaptcha\" class=\"g-recaptcha\" data-sitekey=\"6LfwuyUTAAAAAOAmoS0fdqijC2PbbdH4kjq62Y1b\" data-callback=\"submitCallback\" data-s=\"P3lAxT-dbkeb-EYwIbY5ol3n0endyKQN0xGV-I1qb2ih7BS2GvUXDVVyPYbOncmQ_1jptjx1-Tx56YEi_wGRL-U33gmC-rBVevysw8Wv7uyafEdpyeeIdJKLVGWk0yPTwU2ioZvSBTvi1lzhBhDVP3QVGFBNg1tgBarvURPcAZOkaEThmHlg8nWfNLRLqsHORNr512kFFrtwAVnso8-QOaUFcuvVQSsT9CLPJIid7vZWZCC-Rkps5ss\"></div>\\n<input type=\\'hidden\\' name=\\'q\\' value=\\'EgQlk1JJGLq72vYFIhkA8aeDS_TXYCUV4OvUp-gjBXh9psGhOnw1MgFy\\'><input type=\"hidden\" name=\"continue\" value=\"http://google.com/\">\\n</form>\\n<hr noshade size=\"1\" style=\"color:#ccc; background-color:#ccc;\">\\n\\n<div style=\"font-size:13px;\">\\n<b>About this page</b><br><br>\\n\\nOur systems have detected unusual traffic from your computer network.  This page checks to see if it&#39;s really you sending the requests, and not a robot.  <a href=\"#\" onclick=\"document.getElementById(\\'infoDiv\\').style.display=\\'block\\';\">Why did this happen?</a><br><br>\\n\\n<div id=\"infoDiv\" style=\"display:none; background-color:#eee; padding:10px; margin:0 0 15px 0; line-height:1.4em;\">\\nThis page appears when Google automatically detects requests coming from your computer network which appear to be in violation of the <a href=\"//www.google.com/policies/terms/\">Terms of Service</a>. The block will expire shortly after those requests stop.  In the meantime, solving the above CAPTCHA will let you continue to use our services.<br><br>This traffic may have been sent by malicious software, a browser plug-in, or a script that sends automated requests.  If you share your network connection, ask your administrator for help &mdash; a different computer using the same IP address may be responsible.  <a href=\"//support.google.com/websearch/answer/86640\">Learn more</a><br><br>Sometimes you may be asked to solve the CAPTCHA if you are using advanced terms that robots are known to use, or sending requests very quickly.\\n</div>\\n\\nIP address: 37.147.82.73<br>Time: 2020-06-02T18:43:06Z<br>URL: http://google.com/<br>\\n</div>\\n</div>\\n</body>\\n</html>\\n'"
      ]
     },
     "execution_count": 6,
     "metadata": {},
     "output_type": "execute_result"
    }
   ],
   "source": [
    "response.content"
   ]
  },
  {
   "cell_type": "code",
   "execution_count": 7,
   "metadata": {},
   "outputs": [],
   "source": [
    "from getpass import getpass"
   ]
  },
  {
   "cell_type": "code",
   "execution_count": 10,
   "metadata": {},
   "outputs": [
    {
     "name": "stdout",
     "output_type": "stream",
     "text": [
      "········\n"
     ]
    }
   ],
   "source": [
    "username = 'paveltyukin'\n",
    "password = getpass()\n",
    "r = requests.get('https://api.github.com/user', auth=(username, password))"
   ]
  },
  {
   "cell_type": "code",
   "execution_count": 11,
   "metadata": {},
   "outputs": [
    {
     "data": {
      "text/plain": [
       "'{\"login\":\"paveltyukin\",\"id\":56453533,\"node_id\":\"MDQ6VXNlcjU2NDUzNTMz\",\"avatar_url\":\"https://avatars0.githubusercontent.com/u/56453533?v=4\",\"gravatar_id\":\"\",\"url\":\"https://api.github.com/users/paveltyukin\",\"html_url\":\"https://github.com/paveltyukin\",\"followers_url\":\"https://api.github.com/users/paveltyukin/followers\",\"following_url\":\"https://api.github.com/users/paveltyukin/following{/other_user}\",\"gists_url\":\"https://api.github.com/users/paveltyukin/gists{/gist_id}\",\"starred_url\":\"https://api.github.com/users/paveltyukin/starred{/owner}{/repo}\",\"subscriptions_url\":\"https://api.github.com/users/paveltyukin/subscriptions\",\"organizations_url\":\"https://api.github.com/users/paveltyukin/orgs\",\"repos_url\":\"https://api.github.com/users/paveltyukin/repos\",\"events_url\":\"https://api.github.com/users/paveltyukin/events{/privacy}\",\"received_events_url\":\"https://api.github.com/users/paveltyukin/received_events\",\"type\":\"User\",\"site_admin\":false,\"name\":null,\"company\":null,\"blog\":\"\",\"location\":null,\"email\":null,\"hireable\":null,\"bio\":null,\"twitter_username\":null,\"public_repos\":9,\"public_gists\":2,\"followers\":0,\"following\":0,\"created_at\":\"2019-10-11T19:10:50Z\",\"updated_at\":\"2020-06-02T18:59:55Z\",\"private_gists\":0,\"total_private_repos\":0,\"owned_private_repos\":0,\"disk_usage\":17607,\"collaborators\":0,\"two_factor_authentication\":false,\"plan\":{\"name\":\"free\",\"space\":976562499,\"collaborators\":0,\"private_repos\":10000}}'"
      ]
     },
     "execution_count": 11,
     "metadata": {},
     "output_type": "execute_result"
    }
   ],
   "source": [
    "r.text"
   ]
  },
  {
   "cell_type": "code",
   "execution_count": 12,
   "metadata": {},
   "outputs": [
    {
     "data": {
      "text/plain": [
       "{'login': 'paveltyukin',\n",
       " 'id': 56453533,\n",
       " 'node_id': 'MDQ6VXNlcjU2NDUzNTMz',\n",
       " 'avatar_url': 'https://avatars0.githubusercontent.com/u/56453533?v=4',\n",
       " 'gravatar_id': '',\n",
       " 'url': 'https://api.github.com/users/paveltyukin',\n",
       " 'html_url': 'https://github.com/paveltyukin',\n",
       " 'followers_url': 'https://api.github.com/users/paveltyukin/followers',\n",
       " 'following_url': 'https://api.github.com/users/paveltyukin/following{/other_user}',\n",
       " 'gists_url': 'https://api.github.com/users/paveltyukin/gists{/gist_id}',\n",
       " 'starred_url': 'https://api.github.com/users/paveltyukin/starred{/owner}{/repo}',\n",
       " 'subscriptions_url': 'https://api.github.com/users/paveltyukin/subscriptions',\n",
       " 'organizations_url': 'https://api.github.com/users/paveltyukin/orgs',\n",
       " 'repos_url': 'https://api.github.com/users/paveltyukin/repos',\n",
       " 'events_url': 'https://api.github.com/users/paveltyukin/events{/privacy}',\n",
       " 'received_events_url': 'https://api.github.com/users/paveltyukin/received_events',\n",
       " 'type': 'User',\n",
       " 'site_admin': False,\n",
       " 'name': None,\n",
       " 'company': None,\n",
       " 'blog': '',\n",
       " 'location': None,\n",
       " 'email': None,\n",
       " 'hireable': None,\n",
       " 'bio': None,\n",
       " 'twitter_username': None,\n",
       " 'public_repos': 9,\n",
       " 'public_gists': 2,\n",
       " 'followers': 0,\n",
       " 'following': 0,\n",
       " 'created_at': '2019-10-11T19:10:50Z',\n",
       " 'updated_at': '2020-06-02T18:59:55Z',\n",
       " 'private_gists': 0,\n",
       " 'total_private_repos': 0,\n",
       " 'owned_private_repos': 0,\n",
       " 'disk_usage': 17607,\n",
       " 'collaborators': 0,\n",
       " 'two_factor_authentication': False,\n",
       " 'plan': {'name': 'free',\n",
       "  'space': 976562499,\n",
       "  'collaborators': 0,\n",
       "  'private_repos': 10000}}"
      ]
     },
     "execution_count": 12,
     "metadata": {},
     "output_type": "execute_result"
    }
   ],
   "source": [
    "r.json()"
   ]
  },
  {
   "cell_type": "markdown",
   "metadata": {},
   "source": [
    "Зарегистрировался на сайте, получил токен и отправляю результат"
   ]
  },
  {
   "cell_type": "raw",
   "metadata": {},
   "source": [
    "<div>\n",
    "    <button id=\"btn-moscow\">Moscow</button>\n",
    "    <button id=\"btn-new-york\">New York</button>\n",
    "</div>\n",
    "<div style=\"padding: 10px;\">\n",
    "    <span id=\"time-now\"></span>\n",
    "</div>\n",
    " \n",
    "<script type=\"text/javascript\" src=\"https://code.jquery.com/jquery-3.4.1.min.js\"></script>\n",
    "<script>\n",
    "    $(document).ready(function(){\n",
    " \n",
    "        $('#btn-new-york').click(function(){\n",
    "            $.post('http://api.timezonedb.com/v2.1/get-time-zone?key=my_api_key&format=json&by=zone&zone=America/New_York', function(data) {\n",
    "              $('#time-now').html(data.formatted.split(\" \")[1]);\n",
    " \n",
    "            });\n",
    "        });\n",
    " \n",
    "        $('#btn-moscow').click(function(){\n",
    "            $.post('http://api.timezonedb.com/v2.1/get-time-zone?key=my_api_key&format=json&by=zone&zone=Europe/Moscow', function(data) {\n",
    "              $('#time-now').html(data.formatted.split(\" \")[1]);\n",
    " \n",
    "            });\n",
    "        });\n",
    " \n",
    " \n",
    "    });\n",
    "</script>"
   ]
  },
  {
   "cell_type": "code",
   "execution_count": null,
   "metadata": {},
   "outputs": [],
   "source": []
  }
 ],
 "metadata": {
  "kernelspec": {
   "display_name": "Python 3",
   "language": "python",
   "name": "python3"
  },
  "language_info": {
   "codemirror_mode": {
    "name": "ipython",
    "version": 3
   },
   "file_extension": ".py",
   "mimetype": "text/x-python",
   "name": "python",
   "nbconvert_exporter": "python",
   "pygments_lexer": "ipython3",
   "version": "3.7.3"
  }
 },
 "nbformat": 4,
 "nbformat_minor": 2
}
