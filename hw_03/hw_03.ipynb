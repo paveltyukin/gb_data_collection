{
 "cells": [
  {
   "cell_type": "code",
   "execution_count": 1,
   "metadata": {},
   "outputs": [],
   "source": [
    "import pandas as pd\n",
    "from pymongo import MongoClient\n",
    "import json\n",
    "import warnings\n",
    "import requests\n",
    "import time\n",
    "from bs4 import BeautifulSoup\n",
    "\n",
    "warnings.filterwarnings(\"ignore\")\n",
    "\n",
    "client = MongoClient('localhost', 27017)"
   ]
  },
  {
   "cell_type": "code",
   "execution_count": 2,
   "metadata": {},
   "outputs": [],
   "source": [
    "def insertDFIntoMongo(dbname, collection_name, link_csv):\n",
    "    db = client[dbname]\n",
    "    collection = db[collection_name]\n",
    "    pandas_vacancies = pd.read_csv(link_csv)\n",
    "    pandas_vacancies['_id'] = pandas_vacancies['Link'].str.split('/', expand=True)[4]\n",
    "    max_price = pandas_vacancies['Price Max'].str.split(' ', expand=True)\n",
    "    min_price = pandas_vacancies['Price Min'].str.split(' ', expand=True)\n",
    "    pandas_vacancies['num_price_max'] = (max_price[0] + '' + max_price[1])\n",
    "    pandas_vacancies['num_price_max'] = (min_price[0] + '' + min_price[1])\n",
    "    pandas_vacancies['site'] = pandas_vacancies['hh.ru']\n",
    "    \n",
    "    pandas_vacancies.drop(['hh.ru'], axis=1, inplace=True)\n",
    "    payload = json.loads(pandas_vacancies.to_json(orient='records'))\n",
    "    collection.delete_many({})\n",
    "    collection.insert_many(payload)\n",
    "    \n",
    "    return collection.count()\n",
    "\n",
    "insertDFIntoMongo('vacancies', 'hh.ru', '../hw_02/hh.ru-data science utf-8.csv')"
   ]
  },
  {
   "cell_type": "code",
   "execution_count": 14,
   "metadata": {},
   "outputs": [],
   "source": [
    "def getVacancies(db_name, collection_name, price):\n",
    "    db = client[db_name]\n",
    "    collection = db[collection_name]\n",
    "    for max_price in collection.find({'$or' : \n",
    "                                      [{'Price_Max': {'$gt' : price}},\n",
    "                                       {'Price_Min': {'$gt' : price}}]\n",
    "                                     }):\n",
    "        print(max_price)"
   ]
  },
  {
   "cell_type": "code",
   "execution_count": 6,
   "metadata": {},
   "outputs": [],
   "source": [
    "def get_values(elm):\n",
    "    price_all = []\n",
    "    elm_check_digit = elm.split(' ')\n",
    "    for i in elm_check_digit:\n",
    "        e = i.replace('\\xa0', ' ')\n",
    "        elm_digit = e.split(' ')\n",
    "        elm = []\n",
    "        for i2 in elm_digit:\n",
    "            if i2.isdigit():\n",
    "                elm.append(i2)\n",
    "        if(elm):\n",
    "            price_all.append(''.join(elm))\n",
    "    price_temp = ''.join(price_all)\n",
    "    return price_temp"
   ]
  },
  {
   "cell_type": "code",
   "execution_count": 7,
   "metadata": {},
   "outputs": [],
   "source": [
    "def calculate_price(price):\n",
    "    price_type = price.split(' ')[-1]\n",
    "    if price.find('-') != -1:\n",
    "        price = price.split('-')\n",
    "        elms_compensation = []\n",
    "        for elm in price:\n",
    "            price_all.append(get_values(elm))\n",
    "        price_all.append(price_type)\n",
    "    elif price.find('от') != -1:\n",
    "        price_all.append(-1)\n",
    "        price_all.append(get_values(price))\n",
    "        price_all.append(price_type)\n",
    "    elif price.find('до') != -1:\n",
    "        price_all.append(get_values(price))\n",
    "        price_all.append(-1)\n",
    "        price_all.append(price_type)\n",
    "    return price_all"
   ]
  },
  {
   "cell_type": "code",
   "execution_count": 9,
   "metadata": {},
   "outputs": [],
   "source": [
    "def getIdVacansy(link_vacancy):\n",
    "    return int(link_vacancy.split('/')[-1])"
   ]
  },
  {
   "cell_type": "code",
   "execution_count": 10,
   "metadata": {},
   "outputs": [],
   "source": [
    "def insertOneRowIntoVacancies(dbname, collection_name, obj_name):\n",
    "    db = client[dbname]\n",
    "    collection = db[collection_name]\n",
    "    collection.insert_one(obj_name)"
   ]
  },
  {
   "cell_type": "code",
   "execution_count": 11,
   "metadata": {},
   "outputs": [],
   "source": [
    "main_url = 'https://hh.ru'\n",
    "base_url = main_url + '/search/vacancy?area=113&text=Data+science&page='\n",
    "user_agent = 'Mozilla/5.0 (Macintosh; Intel Mac OS X 10_15_1) AppleWebKit/537.36 (KHTML, like Gecko) Chrome/81.0.4044.96 YaBrowser/20.4.0.3443 Yowser/2.5 Yptp/1.23 Safari/537.36'\n",
    "headers = {'accept': '*/*', 'user-agent': user_agent}    \n",
    "is_true = True\n",
    "\n",
    "jobs =[]\n",
    "job_title = []\n",
    "job_price_min = []\n",
    "job_price_max = []\n",
    "job_href = []\n",
    "job_site = []\n",
    "\n",
    "while is_true:\n",
    "    request = requests.get(base_url, headers = headers)\n",
    "    soup = BeautifulSoup(request.content, 'lxml')\n",
    "    divs = soup.find_all('div', {'data-qa': 'vacancy-serp__vacancy', 'class': 'vacancy-serp-item'})\n",
    "    for div in divs:\n",
    "        price_all = []\n",
    "        price_all_number = []\n",
    "        title = div.find('a', attrs = {'data-qa': 'vacancy-serp__vacancy-title'}).text\n",
    "        div_price = div.find('span', attrs={'data-qa': 'vacancy-serp__vacancy-compensation'})\n",
    "        if div_price == None:\n",
    "            price_all.append(-1)\n",
    "            price_all.append(-1)\n",
    "            price_all.append('')\n",
    "        else:\n",
    "            price = div.find('span', attrs={'data-qa': 'vacancy-serp__vacancy-compensation'}).text\n",
    "            price_all = calculate_price(price)\n",
    "\n",
    "        href = div.find('a', attrs = {'data-qa': 'vacancy-serp__vacancy-title'})['href'].split('?')[0]\n",
    "        \n",
    "        id_vacancy = getIdVacansy(href)\n",
    "        \n",
    "        insert_obj = {\n",
    "            'Title': title,\n",
    "            'Price_Min': int(price_all[0]),\n",
    "            'Price_Max' : int(price_all[1]),\n",
    "            'Type_money' : price_all[2],\n",
    "            'Link' : href,\n",
    "            'Site' : 'hh.ru',\n",
    "            '_id' : id_vacancy\n",
    "        }\n",
    "    \n",
    "        if not issetIdVacancy('vacancies', 'hh.ru', id_vacancy):\n",
    "            insertOneRowIntoVacancies('vacancies', 'hh.ru', insert_obj)\n",
    "        \n",
    "    page_next = soup.find('a', {\"data-qa\": \"pager-next\", \"class\": \"bloko-button HH-Pager-Controls-Next HH-Pager-Control\"})\n",
    "    if page_next != None:\n",
    "        base_url = main_url + page_next['href']\n",
    "        is_true = True\n",
    "    else:\n",
    "        is_true = False\n",
    "    time.sleep(1)"
   ]
  },
  {
   "cell_type": "code",
   "execution_count": 8,
   "metadata": {},
   "outputs": [],
   "source": [
    "def issetIdVacancy(db_name, collection_name, id_vacancy):\n",
    "    id_vacancy = int(id_vacancy)\n",
    "    db = client[db_name]\n",
    "    collection = db[collection_name]\n",
    "    return collection.find_one({'_id': {'$eq': id_vacancy}}) != None"
   ]
  },
  {
   "cell_type": "code",
   "execution_count": 15,
   "metadata": {
    "scrolled": false
   },
   "outputs": [
    {
     "name": "stdout",
     "output_type": "stream",
     "text": [
      "{'_id': 37036573, 'Title': 'Data Engineer - Sales Home', 'Price_Min': -1, 'Price_Max': 220000, 'Type_money': 'руб.', 'Link': 'https://krasnodar.hh.ru/vacancy/37036573', 'Site': 'hh.ru'}\n",
      "{'_id': 37008803, 'Title': 'Специалист Computer Vision (Data Scientist)', 'Price_Min': 120000, 'Price_Max': 220000, 'Type_money': 'руб.', 'Link': 'https://krasnodar.hh.ru/vacancy/37008803', 'Site': 'hh.ru'}\n",
      "{'_id': 37036422, 'Title': 'QA Engineer - Sales Home', 'Price_Min': -1, 'Price_Max': 220000, 'Type_money': 'руб.', 'Link': 'https://krasnodar.hh.ru/vacancy/37036422', 'Site': 'hh.ru'}\n",
      "{'_id': 37357158, 'Title': 'Backend разработчик (Ruby, go, nodejs)', 'Price_Min': -1, 'Price_Max': 300000, 'Type_money': 'руб.', 'Link': 'https://krasnodar.hh.ru/vacancy/37357158', 'Site': 'hh.ru'}\n",
      "{'_id': 37422161, 'Title': 'Developer', 'Price_Min': -1, 'Price_Max': 250000, 'Type_money': 'руб.', 'Link': 'https://krasnodar.hh.ru/vacancy/37422161', 'Site': 'hh.ru'}\n",
      "{'_id': 37054283, 'Title': 'Маркетолог по спецпроектам / Project-менеджер', 'Price_Min': 80000, 'Price_Max': -1, 'Type_money': 'руб.', 'Link': 'https://krasnodar.hh.ru/vacancy/37054283', 'Site': 'hh.ru'}\n",
      "{'_id': 37036308, 'Title': 'Fullstack developer - Sales Home', 'Price_Min': -1, 'Price_Max': 180000, 'Type_money': 'руб.', 'Link': 'https://krasnodar.hh.ru/vacancy/37036308', 'Site': 'hh.ru'}\n",
      "{'_id': 37172117, 'Title': 'Fullstack developer (middle)', 'Price_Min': 120000, 'Price_Max': 180000, 'Type_money': 'руб.', 'Link': 'https://krasnodar.hh.ru/vacancy/37172117', 'Site': 'hh.ru'}\n",
      "{'_id': 37242001, 'Title': 'Scala разработчик', 'Price_Min': -1, 'Price_Max': 80000, 'Type_money': 'руб.', 'Link': 'https://krasnodar.hh.ru/vacancy/37242001', 'Site': 'hh.ru'}\n",
      "{'_id': 37120530, 'Title': 'Back-end C# software developer', 'Price_Min': -1, 'Price_Max': 150000, 'Type_money': 'руб.', 'Link': 'https://krasnodar.hh.ru/vacancy/37120530', 'Site': 'hh.ru'}\n",
      "{'_id': 37003152, 'Title': 'Data Scientist', 'Price_Min': -1, 'Price_Max': 110000, 'Type_money': 'руб.', 'Link': 'https://krasnodar.hh.ru/vacancy/37003152', 'Site': 'hh.ru'}\n",
      "{'_id': 36409959, 'Title': 'Аналитик данных', 'Price_Min': 38000, 'Price_Max': 62000, 'Type_money': 'руб.', 'Link': 'https://krasnodar.hh.ru/vacancy/36409959', 'Site': 'hh.ru'}\n",
      "{'_id': 37462571, 'Title': 'Full-Stack Node.JS Developer (AWS)', 'Price_Min': -1, 'Price_Max': 200000, 'Type_money': 'руб.', 'Link': 'https://krasnodar.hh.ru/vacancy/37462571', 'Site': 'hh.ru'}\n",
      "{'_id': 37428579, 'Title': 'Big Data Engineer (Java/Scala/AWS)', 'Price_Min': -1, 'Price_Max': 260000, 'Type_money': 'руб.', 'Link': 'https://krasnodar.hh.ru/vacancy/37428579', 'Site': 'hh.ru'}\n",
      "{'_id': 37428580, 'Title': 'Big Data Engineer (Java/Scala/AWS)', 'Price_Min': -1, 'Price_Max': 260000, 'Type_money': 'руб.', 'Link': 'https://krasnodar.hh.ru/vacancy/37428580', 'Site': 'hh.ru'}\n",
      "{'_id': 37424812, 'Title': 'Аналитик данных', 'Price_Min': 120000, 'Price_Max': 150000, 'Type_money': 'руб.', 'Link': 'https://krasnodar.hh.ru/vacancy/37424812', 'Site': 'hh.ru'}\n",
      "{'_id': 37404715, 'Title': 'Data Scientist (NLP)', 'Price_Min': 120000, 'Price_Max': 150000, 'Type_money': 'руб.', 'Link': 'https://krasnodar.hh.ru/vacancy/37404715', 'Site': 'hh.ru'}\n",
      "{'_id': 37413148, 'Title': 'Специалист BI (Аналитик данных)', 'Price_Min': 80000, 'Price_Max': -1, 'Type_money': 'руб.', 'Link': 'https://krasnodar.hh.ru/vacancy/37413148', 'Site': 'hh.ru'}\n",
      "{'_id': 37402816, 'Title': 'Начальник отдела цифровизации', 'Price_Min': 100000, 'Price_Max': -1, 'Type_money': 'руб.', 'Link': 'https://krasnodar.hh.ru/vacancy/37402816', 'Site': 'hh.ru'}\n",
      "{'_id': 37020699, 'Title': 'Аналитик-математик (Data scientist)', 'Price_Min': 80000, 'Price_Max': 100000, 'Type_money': 'руб.', 'Link': 'https://krasnodar.hh.ru/vacancy/37020699', 'Site': 'hh.ru'}\n",
      "{'_id': 36870101, 'Title': 'Программист-разработчик (SQL)', 'Price_Min': 100000, 'Price_Max': 250000, 'Type_money': 'руб.', 'Link': 'https://krasnodar.hh.ru/vacancy/36870101', 'Site': 'hh.ru'}\n",
      "{'_id': 37387672, 'Title': 'Разработчик BI (QlikView, Qlik Sense)', 'Price_Min': 70000, 'Price_Max': 150000, 'Type_money': 'руб.', 'Link': 'https://krasnodar.hh.ru/vacancy/37387672', 'Site': 'hh.ru'}\n",
      "{'_id': 36869917, 'Title': 'Ведущий программист 1С', 'Price_Min': 100000, 'Price_Max': 200000, 'Type_money': 'руб.', 'Link': 'https://krasnodar.hh.ru/vacancy/36869917', 'Site': 'hh.ru'}\n",
      "{'_id': 37391427, 'Title': 'Разработчик облачных решений', 'Price_Min': -1, 'Price_Max': 120000, 'Type_money': 'руб.', 'Link': 'https://krasnodar.hh.ru/vacancy/37391427', 'Site': 'hh.ru'}\n",
      "{'_id': 37363543, 'Title': 'HR менеджер (Data Science)', 'Price_Min': 70000, 'Price_Max': 110000, 'Type_money': 'руб.', 'Link': 'https://krasnodar.hh.ru/vacancy/37363543', 'Site': 'hh.ru'}\n",
      "{'_id': 37036843, 'Title': 'Менеджер по продажам (направление IT)', 'Price_Min': 70000, 'Price_Max': 100000, 'Type_money': 'руб.', 'Link': 'https://krasnodar.hh.ru/vacancy/37036843', 'Site': 'hh.ru'}\n",
      "{'_id': 37337601, 'Title': 'Full-Stack Node.JS Developer (AWS)', 'Price_Min': -1, 'Price_Max': 200000, 'Type_money': 'руб.', 'Link': 'https://krasnodar.hh.ru/vacancy/37337601', 'Site': 'hh.ru'}\n",
      "{'_id': 35336500, 'Title': 'Software Developer (PyCharm For Data Science)', 'Price_Min': -1, 'Price_Max': 200000, 'Type_money': 'руб.', 'Link': 'https://krasnodar.hh.ru/vacancy/35336500', 'Site': 'hh.ru'}\n",
      "{'_id': 35336501, 'Title': 'Software Developer (PyCharm For Data Science)', 'Price_Min': -1, 'Price_Max': 200000, 'Type_money': 'руб.', 'Link': 'https://krasnodar.hh.ru/vacancy/35336501', 'Site': 'hh.ru'}\n",
      "{'_id': 37314500, 'Title': 'Аналитик данных', 'Price_Min': 120000, 'Price_Max': 150000, 'Type_money': 'руб.', 'Link': 'https://krasnodar.hh.ru/vacancy/37314500', 'Site': 'hh.ru'}\n",
      "{'_id': 36592266, 'Title': 'Методист онлайн университета (линейка аналитики)', 'Price_Min': -1, 'Price_Max': 80000, 'Type_money': 'руб.', 'Link': 'https://krasnodar.hh.ru/vacancy/36592266', 'Site': 'hh.ru'}\n",
      "{'_id': 36902529, 'Title': 'Финансовый аналитик / Экономист-аналитик', 'Price_Min': 60000, 'Price_Max': 100000, 'Type_money': 'руб.', 'Link': 'https://krasnodar.hh.ru/vacancy/36902529', 'Site': 'hh.ru'}\n",
      "{'_id': 37248938, 'Title': 'Менеджер по привлечению клиентов (IT онлайн-обучение)', 'Price_Min': 60000, 'Price_Max': 100000, 'Type_money': 'руб.', 'Link': 'https://krasnodar.hh.ru/vacancy/37248938', 'Site': 'hh.ru'}\n",
      "{'_id': 37222984, 'Title': 'Менеджер по продажам', 'Price_Min': 35000, 'Price_Max': 170000, 'Type_money': 'руб.', 'Link': 'https://krasnodar.hh.ru/vacancy/37222984', 'Site': 'hh.ru'}\n",
      "{'_id': 37217800, 'Title': 'Full-Stack Node.JS Developer (AWS)', 'Price_Min': -1, 'Price_Max': 180000, 'Type_money': 'руб.', 'Link': 'https://krasnodar.hh.ru/vacancy/37217800', 'Site': 'hh.ru'}\n",
      "{'_id': 30995943, 'Title': 'Исследователь-экономист (research analyst in economics)', 'Price_Min': 60000, 'Price_Max': 120000, 'Type_money': 'руб.', 'Link': 'https://krasnodar.hh.ru/vacancy/30995943', 'Site': 'hh.ru'}\n",
      "{'_id': 36437887, 'Title': 'Преподаватель Python & Data Science и Machine Learning', 'Price_Min': -1, 'Price_Max': 150000, 'Type_money': 'руб.', 'Link': 'https://krasnodar.hh.ru/vacancy/36437887', 'Site': 'hh.ru'}\n",
      "{'_id': 34164405, 'Title': 'Преподаватель курсов по облачным технологиям', 'Price_Min': -1, 'Price_Max': 150000, 'Type_money': 'руб.', 'Link': 'https://krasnodar.hh.ru/vacancy/34164405', 'Site': 'hh.ru'}\n",
      "{'_id': 37139073, 'Title': 'Разработчик Python', 'Price_Min': 100000, 'Price_Max': 140000, 'Type_money': 'руб.', 'Link': 'https://krasnodar.hh.ru/vacancy/37139073', 'Site': 'hh.ru'}\n",
      "{'_id': 37152735, 'Title': 'Java developer (Middle)', 'Price_Min': 100000, 'Price_Max': 130000, 'Type_money': 'руб.', 'Link': 'https://krasnodar.hh.ru/vacancy/37152735', 'Site': 'hh.ru'}\n",
      "{'_id': 36737956, 'Title': 'IT - Analytics & Insights / Data Science Intern / Стажер в IT-Аналитике', 'Price_Min': -1, 'Price_Max': 70000, 'Type_money': 'руб.', 'Link': 'https://krasnodar.hh.ru/vacancy/36737956', 'Site': 'hh.ru'}\n",
      "{'_id': 37105088, 'Title': 'YouTube-маркетолог', 'Price_Min': -1, 'Price_Max': 80000, 'Type_money': 'руб.', 'Link': 'https://krasnodar.hh.ru/vacancy/37105088', 'Site': 'hh.ru'}\n",
      "{'_id': 36765224, 'Title': 'Методист онлайн университета', 'Price_Min': -1, 'Price_Max': 80000, 'Type_money': 'руб.', 'Link': 'https://krasnodar.hh.ru/vacancy/36765224', 'Site': 'hh.ru'}\n",
      "{'_id': 37108393, 'Title': 'Специалист по веб-аналитике (Digital analytics specialist)', 'Price_Min': 60000, 'Price_Max': 120000, 'Type_money': 'руб.', 'Link': 'https://krasnodar.hh.ru/vacancy/37108393', 'Site': 'hh.ru'}\n",
      "{'_id': 37105461, 'Title': 'Ведущий backend-разработчик', 'Price_Min': 200000, 'Price_Max': 300000, 'Type_money': 'руб.', 'Link': 'https://krasnodar.hh.ru/vacancy/37105461', 'Site': 'hh.ru'}\n",
      "{'_id': 37246566, 'Title': 'Senior .net Backend Developer (remote)', 'Price_Min': -1, 'Price_Max': 160000, 'Type_money': 'руб.', 'Link': 'https://krasnodar.hh.ru/vacancy/37246566', 'Site': 'hh.ru'}\n",
      "{'_id': 37057123, 'Title': 'Помощник генерального директора', 'Price_Min': -1, 'Price_Max': 100000, 'Type_money': 'руб.', 'Link': 'https://krasnodar.hh.ru/vacancy/37057123', 'Site': 'hh.ru'}\n",
      "{'_id': 37077235, 'Title': 'Inside Sales Representative (IT / IoT / Automation)', 'Price_Min': -1, 'Price_Max': 80000, 'Type_money': 'руб.', 'Link': 'https://krasnodar.hh.ru/vacancy/37077235', 'Site': 'hh.ru'}\n",
      "{'_id': 33608720, 'Title': 'Научный сотрудник (Машинное обучение и анализ данных в социальных и экономических системах)', 'Price_Min': -1, 'Price_Max': 100000, 'Type_money': 'руб.', 'Link': 'https://krasnodar.hh.ru/vacancy/33608720', 'Site': 'hh.ru'}\n",
      "{'_id': 36741840, 'Title': 'NLP Software Developer / NLP программист-разработчик', 'Price_Min': -1, 'Price_Max': 120000, 'Type_money': 'руб.', 'Link': 'https://krasnodar.hh.ru/vacancy/36741840', 'Site': 'hh.ru'}\n",
      "{'_id': 34916520, 'Title': 'Ведущий разработчик программного обеспечения (Java)', 'Price_Min': -1, 'Price_Max': 90000, 'Type_money': 'руб.', 'Link': 'https://krasnodar.hh.ru/vacancy/34916520', 'Site': 'hh.ru'}\n",
      "{'_id': 33609223, 'Title': 'Научный сотрудник (Компьютерное моделирование и прогнозирование в финансовой сфере)', 'Price_Min': -1, 'Price_Max': 100000, 'Type_money': 'руб.', 'Link': 'https://krasnodar.hh.ru/vacancy/33609223', 'Site': 'hh.ru'}\n"
     ]
    }
   ],
   "source": [
    "getVacancies('vacancies', 'hh.ru', 50000)"
   ]
  }
 ],
 "metadata": {
  "kernelspec": {
   "display_name": "Python 3",
   "language": "python",
   "name": "python3"
  },
  "language_info": {
   "codemirror_mode": {
    "name": "ipython",
    "version": 3
   },
   "file_extension": ".py",
   "mimetype": "text/x-python",
   "name": "python",
   "nbconvert_exporter": "python",
   "pygments_lexer": "ipython3",
   "version": "3.7.6"
  }
 },
 "nbformat": 4,
 "nbformat_minor": 4
}
