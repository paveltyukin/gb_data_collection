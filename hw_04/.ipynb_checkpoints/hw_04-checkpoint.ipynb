{
 "cells": [
  {
   "cell_type": "code",
   "execution_count": 1,
   "metadata": {},
   "outputs": [],
   "source": [
    "import requests\n",
    "import datetime\n",
    "\n",
    "from pprint import pprint\n",
    "from urllib.parse import urlparse\n",
    "from lxml import html\n",
    "from pymongo import MongoClient\n",
    "client = MongoClient('localhost', 27017)\n",
    "datetime_current = datetime.datetime.now()"
   ]
  },
  {
   "cell_type": "code",
   "execution_count": 2,
   "metadata": {},
   "outputs": [],
   "source": [
    "header = {'User-Agent':'Mozilla/5.0 (Macintosh; Intel Mac OS X 10_15_1) AppleWebKit/537.36 (KHTML, like Gecko) Chrome/83.0.4103.61 Safari/537.36'}\n",
    "main_link = 'https://news.mail.ru'\n",
    "news = requests.get(main_link, headers=header)\n",
    "dom = html.fromstring(news.text)\n",
    "main_news = dom.xpath(\"//a[contains(@class, 'js-topnews__item')]\")"
   ]
  },
  {
   "cell_type": "code",
   "execution_count": 3,
   "metadata": {},
   "outputs": [
    {
     "name": "stdout",
     "output_type": "stream",
     "text": [
      "Уже есть такая запись.  E11000 duplicate key error collection: news.main_news index: _id_ dup key: { _id: \"https://news.mail.ru/society/42174650/\" }\n",
      "Уже есть такая запись.  E11000 duplicate key error collection: news.main_news index: _id_ dup key: { _id: \"https://news.mail.ru/society/42174715/\" }\n",
      "Уже есть такая запись.  E11000 duplicate key error collection: news.main_news index: _id_ dup key: { _id: \"https://news.mail.ru/society/42172920/\" }\n",
      "Уже есть такая запись.  E11000 duplicate key error collection: news.main_news index: _id_ dup key: { _id: \"https://news.mail.ru/politics/42174977/\" }\n"
     ]
    },
    {
     "data": {
      "text/plain": [
       "[]"
      ]
     },
     "execution_count": 3,
     "metadata": {},
     "output_type": "execute_result"
    }
   ],
   "source": [
    "db = client['news']\n",
    "collection = db['main_news']\n",
    "links = []\n",
    "\n",
    "for main_new in main_news:\n",
    "    item = {}\n",
    "\n",
    "    item_href = main_link + main_new.xpath(\".//@href\")[0]\n",
    "    item_href_requests = requests.get(item_href, headers=header)\n",
    "    item_href_dom = html.fromstring(item_href_requests.text)\n",
    "    item_href_span = str(item_href_dom.xpath(\"//span[@class='note__text breadcrumbs__text js-ago']/@datetime\")[0])\n",
    "    \n",
    "    item_href_datetime = datetime.datetime.fromisoformat(item_href_span)\n",
    "    item_href_date = f\"{item_href_datetime.day:02d}.{item_href_datetime.month:02d}.{item_href_datetime.year} {item_href_datetime.hour:d}:{item_href_datetime.minute:02d}\"\n",
    "    \n",
    "    item['_id'] = item_href\n",
    "    item['datetime'] = item_href_date\n",
    "    item['link'] = item_href\n",
    "    item['name'] = main_new.xpath(\".//span[contains(@class, 'js-topnews__notification')]/text()\")[0].replace('\\xa0', ' ')\n",
    "    item['from'] = item_href_dom.xpath(\"//a[@class='link color_gray breadcrumbs__link']/@href\")[0]\n",
    "    item['updated'] = datetime_current\n",
    "    \n",
    "    try:\n",
    "        collection.insert_one(item)\n",
    "    except Exception as e:\n",
    "        print(\"Уже есть такая запись. \", e)\n",
    "    \n",
    "#     y = collection.update_one(item, {'$set', {\n",
    "#         'link': item['link'],\n",
    "#         '_id' : item['_id'],\n",
    "#         'datetime': item['datetime'],\n",
    "#         'name': item['name'],\n",
    "#         'from' : item['from']\n",
    "#     }}, upsert=True)\n",
    "    \n",
    "\n",
    "links"
   ]
  },
  {
   "cell_type": "code",
   "execution_count": null,
   "metadata": {},
   "outputs": [],
   "source": []
  },
  {
   "cell_type": "code",
   "execution_count": 4,
   "metadata": {},
   "outputs": [],
   "source": [
    "header = {'User-Agent':'Mozilla/5.0 (Macintosh; Intel Mac OS X 10_15_1) AppleWebKit/537.36 (KHTML, like Gecko) Chrome/83.0.4103.61 Safari/537.36'}\n",
    "main_link_yandex = 'https://yandex.ru/news'\n",
    "news = requests.get(main_link_yandex, headers=header)\n",
    "dom = html.fromstring(news.text)\n",
    "main_news = dom.xpath(\"//div[contains(@class,'story_view_compact')]\")"
   ]
  },
  {
   "cell_type": "code",
   "execution_count": 5,
   "metadata": {
    "scrolled": true
   },
   "outputs": [
    {
     "name": "stdout",
     "output_type": "stream",
     "text": [
      "{'link': 'https://yandex.ru/news/story/Rossiyane_smogut_poluchat_vyplaty_i_posobiya_bez_sbora_spravok--7a4e1f491d34f7c860a760ba25b1f241', '_id': 'https://yandex.ru/news/story/Rossiyane_smogut_poluchat_vyplaty_i_posobiya_bez_sbora_spravok--7a4e1f491d34f7c860a760ba25b1f241', 'name': '/news/story/Rossiyane_smogut_poluchat_vyplaty_i_posobiya_bez_sbora_spravok--7a4e1f491d34f7c860a760ba25b1f241?lr=35&lang=ru&stid=VCAJA8dqDtvfKWU9cAsL&persistent_id=102493058&rubric=index&from=index', 'datetime': 'вчера\\xa0в\\xa023:57', 'from': 'РИА Новости', 'updated': datetime.datetime(2020, 6, 14, 1, 52, 53, 808699)}\n",
      "{'link': 'https://yandex.ru/news/story/V_Rossii_otmenen_bankovskij_rouming--248e3ff92615d9177f7afaf2d3a0e693', '_id': 'https://yandex.ru/news/story/V_Rossii_otmenen_bankovskij_rouming--248e3ff92615d9177f7afaf2d3a0e693', 'name': '/news/story/V_Rossii_otmenen_bankovskij_rouming--248e3ff92615d9177f7afaf2d3a0e693?lr=35&lang=ru&stid=uZ9xb0xdaDECyfOlDD3i&persistent_id=100251752&rubric=index&from=index', 'datetime': '01:27', 'from': 'Газета.Ru', 'updated': datetime.datetime(2020, 6, 14, 1, 52, 53, 808699)}\n",
      "Уже есть такая запись.  E11000 duplicate key error collection: news.main_news index: _id_ dup key: { _id: \"https://yandex.ru/news/story/Na_Kubani_za_sutki_podtverzhdeno_78_sluchaev_zarazheniya_koronavirusom--363f4dd1ef4f56b230ec0594eb82a32c\" }\n",
      "{'link': 'https://yandex.ru/news/story/Na_Kubani_za_sutki_podtverzhdeno_78_sluchaev_zarazheniya_koronavirusom--363f4dd1ef4f56b230ec0594eb82a32c', '_id': 'https://yandex.ru/news/story/Na_Kubani_za_sutki_podtverzhdeno_78_sluchaev_zarazheniya_koronavirusom--363f4dd1ef4f56b230ec0594eb82a32c', 'name': '/news/story/Na_Kubani_za_sutki_podtverzhdeno_78_sluchaev_zarazheniya_koronavirusom--363f4dd1ef4f56b230ec0594eb82a32c?lr=35&lang=ru&stid=o5q_a9ykQPbMALb2o93G&persistent_id=96430577&rubric=Krasnodar&from=index', 'datetime': 'вчера\\xa0в\\xa023:05', 'from': 'REGNUM', 'updated': datetime.datetime(2020, 6, 14, 1, 52, 53, 808699)}\n",
      "{'link': 'https://yandex.ru/news/story/Stali_izvestny_vozmozhnye_gonorary_Fyuri_i_Dzhoshua_za_dva_boya--2e74f67fb353ce6d48ba57bcb039013c', '_id': 'https://yandex.ru/news/story/Stali_izvestny_vozmozhnye_gonorary_Fyuri_i_Dzhoshua_za_dva_boya--2e74f67fb353ce6d48ba57bcb039013c', 'name': '/news/story/Stali_izvestny_vozmozhnye_gonorary_Fyuri_i_Dzhoshua_za_dva_boya--2e74f67fb353ce6d48ba57bcb039013c?lr=35&lang=ru&stid=jGDzwF14gZdNjvBcHBeX&persistent_id=102500322&rubric=personal_feed&from=index', 'datetime': 'вчера\\xa0в\\xa023:11', 'from': 'Чемпионат', 'updated': datetime.datetime(2020, 6, 14, 1, 52, 53, 808699)}\n",
      "Уже есть такая запись.  E11000 duplicate key error collection: news.main_news index: _id_ dup key: { _id: \"https://yandex.ru/news/story/NI_obyasnil_pochemu_u_Rossii_est_osnovaniya_opasatsya_vtorzheniya_NATO--a92503571d642ce1fc440b83e4c97843\" }\n",
      "{'link': 'https://yandex.ru/news/story/NI_obyasnil_pochemu_u_Rossii_est_osnovaniya_opasatsya_vtorzheniya_NATO--a92503571d642ce1fc440b83e4c97843', '_id': 'https://yandex.ru/news/story/NI_obyasnil_pochemu_u_Rossii_est_osnovaniya_opasatsya_vtorzheniya_NATO--a92503571d642ce1fc440b83e4c97843', 'name': '/news/story/NI_obyasnil_pochemu_u_Rossii_est_osnovaniya_opasatsya_vtorzheniya_NATO--a92503571d642ce1fc440b83e4c97843?lr=35&lang=ru&stid=hGiSIhnY-AK5BmeLd1up&persistent_id=102474909&rubric=politics&from=index', 'datetime': 'вчера\\xa0в\\xa022:28', 'from': 'РИА Новости', 'updated': datetime.datetime(2020, 6, 14, 1, 52, 53, 808699)}\n",
      "{'link': 'https://yandex.ru/news/story/Stali_izvestny_vozmozhnye_usloviya_nakhozhdeniya_Efremova_v_kolonii--fe6d3bec8ea6574e7f7f1ceaecbe485e', '_id': 'https://yandex.ru/news/story/Stali_izvestny_vozmozhnye_usloviya_nakhozhdeniya_Efremova_v_kolonii--fe6d3bec8ea6574e7f7f1ceaecbe485e', 'name': '/news/story/Stali_izvestny_vozmozhnye_usloviya_nakhozhdeniya_Efremova_v_kolonii--fe6d3bec8ea6574e7f7f1ceaecbe485e?lr=35&lang=ru&stid=D4sUIios4R4nFnqMCPPK&persistent_id=102505485&rubric=society&from=index', 'datetime': '01:33', 'from': 'Lenta.ru', 'updated': datetime.datetime(2020, 6, 14, 1, 52, 53, 808699)}\n",
      "Уже есть такая запись.  E11000 duplicate key error collection: news.main_news index: _id_ dup key: { _id: \"https://yandex.ru/news/story/Nichego_lichnogo._Kak_SSHA_pomogli_Rossii_vyigrat_neftyanuyu_vojnu--534cfa860480b4217f0815e6752c0bbb\" }\n",
      "{'link': 'https://yandex.ru/news/story/Nichego_lichnogo._Kak_SSHA_pomogli_Rossii_vyigrat_neftyanuyu_vojnu--534cfa860480b4217f0815e6752c0bbb', '_id': 'https://yandex.ru/news/story/Nichego_lichnogo._Kak_SSHA_pomogli_Rossii_vyigrat_neftyanuyu_vojnu--534cfa860480b4217f0815e6752c0bbb', 'name': '/news/story/Nichego_lichnogo._Kak_SSHA_pomogli_Rossii_vyigrat_neftyanuyu_vojnu--534cfa860480b4217f0815e6752c0bbb?lr=35&lang=ru&stid=ehETUEwWMGq8kd91Wy56&persistent_id=102482201&rubric=business&from=index', 'datetime': 'вчера\\xa0в\\xa020:38', 'from': 'РИА Новости', 'updated': datetime.datetime(2020, 6, 14, 1, 52, 53, 808699)}\n",
      "Уже есть такая запись.  E11000 duplicate key error collection: news.main_news index: _id_ dup key: { _id: \"https://yandex.ru/news/story/V_Pekine_vyyavleno_49_zabolevshikh_COVID-19_vvedeno_voennoe_polozhenie--09d000dfd3276b50b437074a48fc6083\" }\n",
      "{'link': 'https://yandex.ru/news/story/V_Pekine_vyyavleno_49_zabolevshikh_COVID-19_vvedeno_voennoe_polozhenie--09d000dfd3276b50b437074a48fc6083', '_id': 'https://yandex.ru/news/story/V_Pekine_vyyavleno_49_zabolevshikh_COVID-19_vvedeno_voennoe_polozhenie--09d000dfd3276b50b437074a48fc6083', 'name': '/news/story/V_Pekine_vyyavleno_49_zabolevshikh_COVID-19_vvedeno_voennoe_polozhenie--09d000dfd3276b50b437074a48fc6083?lr=35&lang=ru&stid=CPrd5gthdp6R-aUcxKfL&persistent_id=102489730&rubric=world&from=index', 'datetime': 'вчера\\xa0в\\xa022:53', 'from': 'Вести.Ru', 'updated': datetime.datetime(2020, 6, 14, 1, 52, 53, 808699)}\n",
      "Уже есть такая запись.  E11000 duplicate key error collection: news.main_news index: _id_ dup key: { _id: \"https://yandex.ru/news/story/Barselona_razgromila_Malorku_v_28-m_ture_Primery--6e60f56bf84312638af1b65c8cdbc6ee\" }\n",
      "{'link': 'https://yandex.ru/news/story/Barselona_razgromila_Malorku_v_28-m_ture_Primery--6e60f56bf84312638af1b65c8cdbc6ee', '_id': 'https://yandex.ru/news/story/Barselona_razgromila_Malorku_v_28-m_ture_Primery--6e60f56bf84312638af1b65c8cdbc6ee', 'name': '/news/story/Barselona_razgromila_Malorku_v_28-m_ture_Primery--6e60f56bf84312638af1b65c8cdbc6ee?lr=35&lang=ru&stid=fLPOf_dGKfFqM8ghFKEy&persistent_id=102528095&from=index', 'datetime': '01:33', 'from': 'RT на русском', 'updated': datetime.datetime(2020, 6, 14, 1, 52, 53, 808699)}\n",
      "Уже есть такая запись.  E11000 duplicate key error collection: news.main_news index: _id_ dup key: { _id: \"https://yandex.ru/news/story/Advokat_obyasnil_prichinu_otkaza_semi_Zakharova_ot_pomoshhi_Efremova--9b758c6bec1c2d3f21e8921d29f66e13\" }\n",
      "{'link': 'https://yandex.ru/news/story/Advokat_obyasnil_prichinu_otkaza_semi_Zakharova_ot_pomoshhi_Efremova--9b758c6bec1c2d3f21e8921d29f66e13', '_id': 'https://yandex.ru/news/story/Advokat_obyasnil_prichinu_otkaza_semi_Zakharova_ot_pomoshhi_Efremova--9b758c6bec1c2d3f21e8921d29f66e13', 'name': '/news/story/Advokat_obyasnil_prichinu_otkaza_semi_Zakharova_ot_pomoshhi_Efremova--9b758c6bec1c2d3f21e8921d29f66e13?lr=35&lang=ru&stid=00y4l5d1bNWgN6bZFR6A&persistent_id=102499768&rubric=incident&from=index', 'datetime': '00:25', 'from': 'Известия', 'updated': datetime.datetime(2020, 6, 14, 1, 52, 53, 808699)}\n",
      "{'link': 'https://yandex.ru/news/story/Smotrim_pryamuyu_translyaciyu_The_future_of_gaming--e4b586ded1cad27eb8a0227199503725', '_id': 'https://yandex.ru/news/story/Smotrim_pryamuyu_translyaciyu_The_future_of_gaming--e4b586ded1cad27eb8a0227199503725', 'name': '/news/story/Smotrim_pryamuyu_translyaciyu_The_future_of_gaming--e4b586ded1cad27eb8a0227199503725?lr=35&lang=ru&stid=3lUW&persistent_id=102480110&rubric=culture&from=index', 'datetime': '00:10', 'from': 'The GEEK', 'updated': datetime.datetime(2020, 6, 14, 1, 52, 53, 808699)}\n",
      "Уже есть такая запись.  E11000 duplicate key error collection: news.main_news index: _id_ dup key: { _id: \"https://yandex.ru/news/story/Razrabotchiki_raskryli_sekret_novoj_Mafia--20bec81d0ddb70a515d4bc19d3116175\" }\n",
      "{'link': 'https://yandex.ru/news/story/Razrabotchiki_raskryli_sekret_novoj_Mafia--20bec81d0ddb70a515d4bc19d3116175', '_id': 'https://yandex.ru/news/story/Razrabotchiki_raskryli_sekret_novoj_Mafia--20bec81d0ddb70a515d4bc19d3116175', 'name': '/news/story/Razrabotchiki_raskryli_sekret_novoj_Mafia--20bec81d0ddb70a515d4bc19d3116175?lr=35&lang=ru&stid=99DFxUDqIvONwGjZVmvS&persistent_id=102522939&rubric=computers&from=index', 'datetime': '01:22', 'from': 'Российская газета', 'updated': datetime.datetime(2020, 6, 14, 1, 52, 53, 808699)}\n",
      "Уже есть такая запись.  E11000 duplicate key error collection: news.main_news index: _id_ dup key: { _id: \"https://yandex.ru/news/story/Paleontologi_nashli_khodivshikh_na_dvukh_lapakh_krokodilov--b4fad952a7b0f847e13f0066db6dc683\" }\n",
      "{'link': 'https://yandex.ru/news/story/Paleontologi_nashli_khodivshikh_na_dvukh_lapakh_krokodilov--b4fad952a7b0f847e13f0066db6dc683', '_id': 'https://yandex.ru/news/story/Paleontologi_nashli_khodivshikh_na_dvukh_lapakh_krokodilov--b4fad952a7b0f847e13f0066db6dc683', 'name': '/news/story/Paleontologi_nashli_khodivshikh_na_dvukh_lapakh_krokodilov--b4fad952a7b0f847e13f0066db6dc683?lr=35&lang=ru&stid=nrCFaoPepNdo3MMqc4KA&persistent_id=100435195&rubric=science&from=index', 'datetime': 'вчера\\xa0в\\xa020:00', 'from': 'Русская Планета', 'updated': datetime.datetime(2020, 6, 14, 1, 52, 53, 808699)}\n",
      "Уже есть такая запись.  E11000 duplicate key error collection: news.main_news index: _id_ dup key: { _id: \"https://yandex.ru/news/story/Rossijskikh_voditelej_zhdet_ryad_novovvedenij_s_1_iyulya--50b25f8ddf530b59f0a1497197a6a088\" }\n",
      "{'link': 'https://yandex.ru/news/story/Rossijskikh_voditelej_zhdet_ryad_novovvedenij_s_1_iyulya--50b25f8ddf530b59f0a1497197a6a088', '_id': 'https://yandex.ru/news/story/Rossijskikh_voditelej_zhdet_ryad_novovvedenij_s_1_iyulya--50b25f8ddf530b59f0a1497197a6a088', 'name': '/news/story/Rossijskikh_voditelej_zhdet_ryad_novovvedenij_s_1_iyulya--50b25f8ddf530b59f0a1497197a6a088?lr=35&lang=ru&stid=vWDUVgmyTiGNaOkeH2_n&persistent_id=102423094&rubric=auto&from=index', 'datetime': '01:11', 'from': 'Автоновости дня', 'updated': datetime.datetime(2020, 6, 14, 1, 52, 53, 808699)}\n"
     ]
    }
   ],
   "source": [
    "for main_new in main_news:\n",
    "    item = {}\n",
    "\n",
    "    item_link = 'https://yandex.ru' + str(main_new.xpath(\".//h2[@class='story__title']/a/@href\")[0])\n",
    "    item_link_parse = urlparse(item_link)\n",
    "    item['link'] = item_link_parse.scheme + \"://\" + item_link_parse.netloc + item_link_parse.path\n",
    "    item['_id'] = item['link']    \n",
    "    item['name'] = main_new.xpath(\".//h2[@class='story__title']/a/@href\")[0]\n",
    "    \n",
    "    temp_item = str(main_new.xpath(\".//div[@class='story__date']/text()\")[0])\n",
    "\n",
    "    item['datetime'] = temp_item.split(' ')[-1]\n",
    "    item['from'] = \" \".join(temp_item.split(' ')[:-1])\n",
    "    item['updated'] = datetime_current\n",
    "    \n",
    "    \n",
    "    try:\n",
    "        collection.insert_one(item)\n",
    "    except Exception as e:\n",
    "        print(\"Уже есть такая запись. \", e)\n",
    "        \n",
    "    print(item)"
   ]
  },
  {
   "cell_type": "code",
   "execution_count": null,
   "metadata": {},
   "outputs": [],
   "source": []
  },
  {
   "cell_type": "code",
   "execution_count": 6,
   "metadata": {},
   "outputs": [],
   "source": [
    "header = {'User-Agent':'Mozilla/5.0 (Macintosh; Intel Mac OS X 10_15_1) AppleWebKit/537.36 (KHTML, like Gecko) Chrome/83.0.4103.61 Safari/537.36'}\n",
    "main_link_lenta = 'https://lenta.ru'\n",
    "news = requests.get(main_link_lenta, headers=header)\n",
    "dom = html.fromstring(news.text)\n",
    "main_news = dom.xpath(\"//section[contains(@class,'js-top-seven')]/div[@class='span4']/div[@class='item']/a\")"
   ]
  },
  {
   "cell_type": "code",
   "execution_count": 7,
   "metadata": {},
   "outputs": [
    {
     "name": "stdout",
     "output_type": "stream",
     "text": [
      "<Element a at 0x10b77dfb0>\n",
      "Уже есть такая запись.  E11000 duplicate key error collection: news.main_news index: _id_ dup key: { _id: \"https://lenta.ru/news/2020/06/14/bank/\" }\n",
      "<Element a at 0x10b77d590>\n",
      "Уже есть такая запись.  E11000 duplicate key error collection: news.main_news index: _id_ dup key: { _id: \"https://lenta.ru/news/2020/06/14/usloviya/\" }\n",
      "<Element a at 0x10b77d5f0>\n",
      "Уже есть такая запись.  E11000 duplicate key error collection: news.main_news index: _id_ dup key: { _id: \"https://lenta.ru/news/2020/06/14/slavs/\" }\n",
      "<Element a at 0x10b77d650>\n",
      "Уже есть такая запись.  E11000 duplicate key error collection: news.main_news index: _id_ dup key: { _id: \"https://lenta.ru/news/2020/06/14/pamela/\" }\n",
      "<Element a at 0x10b77d6b0>\n",
      "Уже есть такая запись.  E11000 duplicate key error collection: news.main_news index: _id_ dup key: { _id: \"https://lenta.ru/news/2020/06/13/sorry/\" }\n",
      "<Element a at 0x10b77d4d0>\n",
      "Уже есть такая запись.  E11000 duplicate key error collection: news.main_news index: _id_ dup key: { _id: \"https://lenta.ru/news/2020/06/13/prichina/\" }\n",
      "<Element a at 0x10b77d530>\n",
      "Уже есть такая запись.  E11000 duplicate key error collection: news.main_news index: _id_ dup key: { _id: \"https://lenta.ru/news/2020/06/13/army/\" }\n",
      "<Element a at 0x10b77d890>\n",
      "Уже есть такая запись.  E11000 duplicate key error collection: news.main_news index: _id_ dup key: { _id: \"https://lenta.ru/news/2020/06/13/50/\" }\n",
      "<Element a at 0x10b77d8f0>\n",
      "Уже есть такая запись.  E11000 duplicate key error collection: news.main_news index: _id_ dup key: { _id: \"https://lenta.ru/news/2020/06/13/uspenskaya/\" }\n"
     ]
    }
   ],
   "source": [
    "for main_new in main_news:\n",
    "    print(main_new)\n",
    "    item = {}\n",
    "\n",
    "    item_href = main_link_lenta + main_new.xpath(\"@href\")[0]\n",
    "    item['_id'] = item_href\n",
    "    item['link'] = item_href\n",
    "    \n",
    "    temp_datetime = main_new.xpath(\".//time/@datetime\")[0].split(', ')\n",
    "    \n",
    "    item['datetime'] = temp_datetime[1] + ' ' + temp_datetime[0]\n",
    "    item['name'] = main_new.xpath(\"text()\")[0]\n",
    "    item['from'] = 'lenta.ru'\n",
    "    item['updated'] = datetime_current\n",
    "    \n",
    "    try:\n",
    "        collection.insert_one(item)\n",
    "    except Exception as e:\n",
    "        print(\"Уже есть такая запись. \", e)\n",
    "\n"
   ]
  }
 ],
 "metadata": {
  "kernelspec": {
   "display_name": "Python 3",
   "language": "python",
   "name": "python3"
  },
  "language_info": {
   "codemirror_mode": {
    "name": "ipython",
    "version": 3
   },
   "file_extension": ".py",
   "mimetype": "text/x-python",
   "name": "python",
   "nbconvert_exporter": "python",
   "pygments_lexer": "ipython3",
   "version": "3.7.6"
  }
 },
 "nbformat": 4,
 "nbformat_minor": 4
}
